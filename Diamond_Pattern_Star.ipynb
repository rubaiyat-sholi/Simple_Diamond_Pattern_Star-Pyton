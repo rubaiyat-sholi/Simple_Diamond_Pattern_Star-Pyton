{
  "nbformat": 4,
  "nbformat_minor": 0,
  "metadata": {
    "colab": {
      "name": "Diamond Pattern Star.ipynb",
      "provenance": [],
      "authorship_tag": "ABX9TyMGEcBLkGngqTjtdQajCgVk",
      "include_colab_link": true
    },
    "kernelspec": {
      "name": "python3",
      "display_name": "Python 3"
    },
    "language_info": {
      "name": "python"
    }
  },
  "cells": [
    {
      "cell_type": "markdown",
      "metadata": {
        "id": "view-in-github",
        "colab_type": "text"
      },
      "source": [
        "<a href=\"https://colab.research.google.com/github/rubaiyat-sholi/Simple_Diamond_Pattern_Star-Pyton/blob/main/Diamond_Pattern_Star.ipynb\" target=\"_parent\"><img src=\"https://colab.research.google.com/assets/colab-badge.svg\" alt=\"Open In Colab\"/></a>"
      ]
    },
    {
      "cell_type": "markdown",
      "source": [
        "Half-Diamond "
      ],
      "metadata": {
        "id": "YuqOfIfqaUZ1"
      }
    },
    {
      "cell_type": "code",
      "execution_count": 4,
      "metadata": {
        "colab": {
          "base_uri": "https://localhost:8080/"
        },
        "id": "nU2WAxpl7m50",
        "outputId": "00ed4f8f-39eb-4b83-d55e-2af08a03feca"
      },
      "outputs": [
        {
          "output_type": "stream",
          "name": "stdout",
          "text": [
            "*\n",
            "**\n",
            "***\n",
            "****\n",
            "*****\n",
            "****\n",
            "***\n",
            "**\n",
            "*\n",
            "\n"
          ]
        }
      ],
      "source": [
        "a=1\n",
        "b=5\n",
        "\n",
        "for i in range(0,2*b):\n",
        "    if i<4:\n",
        "     print((\"*\"*a))\n",
        "     a=a+1\n",
        "    else:\n",
        "     print((\"*\"*a))\n",
        "     a=a-1"
      ]
    },
    {
      "cell_type": "code",
      "source": [
        "a=1\n",
        "b=5\n",
        "\n",
        "for i in range(0,2*b):\n",
        "    if i<4:\n",
        "     print((\" \"*b) + (\"*\"*a))\n",
        "     a=a+1\n",
        "     b=b-1\n",
        "    else:\n",
        "     print((\" \"*b) + (\"*\"*a))\n",
        "     a=a-1\n",
        "     b=b+1"
      ],
      "metadata": {
        "colab": {
          "base_uri": "https://localhost:8080/"
        },
        "id": "WkquWDrF89Up",
        "outputId": "171be064-b05b-470e-f466-bfa68d1d4313"
      },
      "execution_count": 7,
      "outputs": [
        {
          "output_type": "stream",
          "name": "stdout",
          "text": [
            "     *\n",
            "    **\n",
            "   ***\n",
            "  ****\n",
            " *****\n",
            "  ****\n",
            "   ***\n",
            "    **\n",
            "     *\n",
            "      \n"
          ]
        }
      ]
    },
    {
      "cell_type": "markdown",
      "source": [
        "Even Shaped Diamond"
      ],
      "metadata": {
        "id": "20YsHv0haeaY"
      }
    },
    {
      "cell_type": "code",
      "source": [
        "a=1\n",
        "b=5\n",
        "\n",
        "for i in range(0,2*b):\n",
        "    if i<4:\n",
        "     print((\" \"*b) + (\"*\"*a)*2)\n",
        "     a=a+1\n",
        "     b=b-1\n",
        "    else:\n",
        "     print((\" \"*b) + (\"*\"*a)*2)\n",
        "     a=a-1\n",
        "     b=b+1"
      ],
      "metadata": {
        "colab": {
          "base_uri": "https://localhost:8080/"
        },
        "id": "oVuLhko_-HPW",
        "outputId": "a0c2d6b1-a5ac-43b6-f418-d5fee2197d4c"
      },
      "execution_count": 8,
      "outputs": [
        {
          "output_type": "stream",
          "name": "stdout",
          "text": [
            "     **\n",
            "    ****\n",
            "   ******\n",
            "  ********\n",
            " **********\n",
            "  ********\n",
            "   ******\n",
            "    ****\n",
            "     **\n",
            "      \n"
          ]
        }
      ]
    },
    {
      "cell_type": "markdown",
      "source": [
        "Odd Shaped Diamond"
      ],
      "metadata": {
        "id": "Y4aUFFFhamdl"
      }
    },
    {
      "cell_type": "code",
      "source": [
        "a=4\n",
        "b=1\n",
        "\n",
        "for i in range(10):\n",
        "  if(i<5):\n",
        "     print(a*\" \" + b*\"*\")\n",
        "     b=b+2\n",
        "     a=a-1\n",
        "  else:\n",
        "     b=b-2\n",
        "     a=a+1\n",
        "     print(a*\" \" + b*\"*\")\n",
        "\n",
        "    "
      ],
      "metadata": {
        "colab": {
          "base_uri": "https://localhost:8080/"
        },
        "id": "38BN6RA1CgSt",
        "outputId": "e08dfc21-5e77-49a1-fc90-798f74659bdc"
      },
      "execution_count": 39,
      "outputs": [
        {
          "output_type": "stream",
          "name": "stdout",
          "text": [
            "    *\n",
            "   ***\n",
            "  *****\n",
            " *******\n",
            "*********\n",
            "*********\n",
            " *******\n",
            "  *****\n",
            "   ***\n",
            "    *\n"
          ]
        }
      ]
    }
  ]
}